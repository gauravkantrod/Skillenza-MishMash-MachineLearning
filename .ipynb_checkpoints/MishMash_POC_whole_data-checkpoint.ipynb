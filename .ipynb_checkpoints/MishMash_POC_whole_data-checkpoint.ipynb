{
 "cells": [
  {
   "cell_type": "code",
   "execution_count": 7,
   "metadata": {},
   "outputs": [],
   "source": [
    "import pandas as pd"
   ]
  },
  {
   "cell_type": "code",
   "execution_count": 2,
   "metadata": {},
   "outputs": [],
   "source": [
    "import numpy as np"
   ]
  },
  {
   "cell_type": "code",
   "execution_count": 3,
   "metadata": {},
   "outputs": [],
   "source": [
    "import matplotlib.pyplot as plt"
   ]
  },
  {
   "cell_type": "code",
   "execution_count": 4,
   "metadata": {},
   "outputs": [],
   "source": [
    "import seaborn as sns"
   ]
  },
  {
   "cell_type": "code",
   "execution_count": 22,
   "metadata": {},
   "outputs": [],
   "source": [
    "from sklearn.linear_model import LinearRegression, RidgeCV, LassoCV"
   ]
  },
  {
   "cell_type": "code",
   "execution_count": 42,
   "metadata": {},
   "outputs": [],
   "source": [
    "from sklearn.ensemble import RandomForestRegressor"
   ]
  },
  {
   "cell_type": "code",
   "execution_count": 57,
   "metadata": {},
   "outputs": [],
   "source": [
    "from xgboost import XGBRegressor"
   ]
  },
  {
   "cell_type": "code",
   "execution_count": 21,
   "metadata": {},
   "outputs": [],
   "source": [
    "from sklearn.model_selection import train_test_split"
   ]
  },
  {
   "cell_type": "code",
   "execution_count": 32,
   "metadata": {},
   "outputs": [],
   "source": [
    "from sklearn.metrics import mean_squared_error, mean_absolute_error, r2_score"
   ]
  },
  {
   "cell_type": "code",
   "execution_count": 46,
   "metadata": {},
   "outputs": [],
   "source": [
    "import warnings \n",
    "warnings.filterwarnings('ignore')\n",
    "warnings.filterwarnings('ignore', category=DeprecationWarning)"
   ]
  },
  {
   "cell_type": "code",
   "execution_count": 8,
   "metadata": {},
   "outputs": [],
   "source": [
    "df = pd.read_excel('Test dataset v1.xlsx')"
   ]
  },
  {
   "cell_type": "code",
   "execution_count": 9,
   "metadata": {},
   "outputs": [
    {
     "data": {
      "text/html": [
       "<div>\n",
       "<style scoped>\n",
       "    .dataframe tbody tr th:only-of-type {\n",
       "        vertical-align: middle;\n",
       "    }\n",
       "\n",
       "    .dataframe tbody tr th {\n",
       "        vertical-align: top;\n",
       "    }\n",
       "\n",
       "    .dataframe thead th {\n",
       "        text-align: right;\n",
       "    }\n",
       "</style>\n",
       "<table border=\"1\" class=\"dataframe\">\n",
       "  <thead>\n",
       "    <tr style=\"text-align: right;\">\n",
       "      <th></th>\n",
       "      <th>Period</th>\n",
       "      <th>EQ</th>\n",
       "      <th>Social_Search_Impressions</th>\n",
       "      <th>Social_Search_Working_cost</th>\n",
       "      <th>Digital_Impressions</th>\n",
       "      <th>Digital_Working_cost</th>\n",
       "      <th>Print_Impressions.Ads40</th>\n",
       "      <th>Print_Working_Cost.Ads50</th>\n",
       "      <th>OOH_Impressions</th>\n",
       "      <th>OOH_Working_Cost</th>\n",
       "      <th>...</th>\n",
       "      <th>Magazine_Impressions_pct</th>\n",
       "      <th>TV_GRP</th>\n",
       "      <th>Competitor1_RPI</th>\n",
       "      <th>Competitor2_RPI</th>\n",
       "      <th>Competitor3_RPI</th>\n",
       "      <th>Competitor4_RPI</th>\n",
       "      <th>EQ_Category</th>\n",
       "      <th>EQ_Subcategory</th>\n",
       "      <th>pct_PromoMarketDollars_Subcategory</th>\n",
       "      <th>RPI_Subcategory</th>\n",
       "    </tr>\n",
       "  </thead>\n",
       "  <tbody>\n",
       "    <tr>\n",
       "      <th>0</th>\n",
       "      <td>2016 - Period:1</td>\n",
       "      <td>504.784933</td>\n",
       "      <td>2019283.0</td>\n",
       "      <td>5493.0</td>\n",
       "      <td>37148.2</td>\n",
       "      <td>2045.282</td>\n",
       "      <td>0.000012</td>\n",
       "      <td>0.000012</td>\n",
       "      <td>1.203045e+09</td>\n",
       "      <td>2220633.0</td>\n",
       "      <td>...</td>\n",
       "      <td>27.702433</td>\n",
       "      <td>21.300</td>\n",
       "      <td>97.173365</td>\n",
       "      <td>35.557371</td>\n",
       "      <td>44.502717</td>\n",
       "      <td>63.377268</td>\n",
       "      <td>1728388.673</td>\n",
       "      <td>331927.5394</td>\n",
       "      <td>0.162732</td>\n",
       "      <td>40.560563</td>\n",
       "    </tr>\n",
       "    <tr>\n",
       "      <th>1</th>\n",
       "      <td>2016 - Period:2</td>\n",
       "      <td>490.226477</td>\n",
       "      <td>4564738.0</td>\n",
       "      <td>12938.0</td>\n",
       "      <td>50886.8</td>\n",
       "      <td>2370.584</td>\n",
       "      <td>0.000014</td>\n",
       "      <td>0.000015</td>\n",
       "      <td>1.944356e+09</td>\n",
       "      <td>469895.0</td>\n",
       "      <td>...</td>\n",
       "      <td>21.432628</td>\n",
       "      <td>12.334</td>\n",
       "      <td>97.850760</td>\n",
       "      <td>37.223072</td>\n",
       "      <td>45.720077</td>\n",
       "      <td>62.731742</td>\n",
       "      <td>1900859.879</td>\n",
       "      <td>334611.3806</td>\n",
       "      <td>0.231650</td>\n",
       "      <td>40.046301</td>\n",
       "    </tr>\n",
       "    <tr>\n",
       "      <th>2</th>\n",
       "      <td>2016 - Period:3</td>\n",
       "      <td>479.244686</td>\n",
       "      <td>1029384.0</td>\n",
       "      <td>6546.0</td>\n",
       "      <td>253333.2</td>\n",
       "      <td>3180.888</td>\n",
       "      <td>0.000016</td>\n",
       "      <td>0.000017</td>\n",
       "      <td>9.984054e+08</td>\n",
       "      <td>4465061.0</td>\n",
       "      <td>...</td>\n",
       "      <td>29.726275</td>\n",
       "      <td>23.213</td>\n",
       "      <td>96.397739</td>\n",
       "      <td>40.800563</td>\n",
       "      <td>41.822953</td>\n",
       "      <td>62.090417</td>\n",
       "      <td>2036436.906</td>\n",
       "      <td>387148.3582</td>\n",
       "      <td>0.125394</td>\n",
       "      <td>40.411115</td>\n",
       "    </tr>\n",
       "    <tr>\n",
       "      <th>3</th>\n",
       "      <td>2016 - Period:4</td>\n",
       "      <td>489.057428</td>\n",
       "      <td>902938.0</td>\n",
       "      <td>3928.0</td>\n",
       "      <td>3426239.0</td>\n",
       "      <td>13595.398</td>\n",
       "      <td>0.000016</td>\n",
       "      <td>0.000019</td>\n",
       "      <td>3.039816e+09</td>\n",
       "      <td>1031855.0</td>\n",
       "      <td>...</td>\n",
       "      <td>30.326275</td>\n",
       "      <td>14.456</td>\n",
       "      <td>98.936519</td>\n",
       "      <td>36.576140</td>\n",
       "      <td>41.578429</td>\n",
       "      <td>63.374358</td>\n",
       "      <td>2113635.013</td>\n",
       "      <td>482489.6740</td>\n",
       "      <td>0.056603</td>\n",
       "      <td>42.213246</td>\n",
       "    </tr>\n",
       "    <tr>\n",
       "      <th>4</th>\n",
       "      <td>2016 - Period:5</td>\n",
       "      <td>477.031994</td>\n",
       "      <td>1343454.0</td>\n",
       "      <td>28374.0</td>\n",
       "      <td>552197.8</td>\n",
       "      <td>3983.134</td>\n",
       "      <td>0.000016</td>\n",
       "      <td>0.000019</td>\n",
       "      <td>9.622004e+08</td>\n",
       "      <td>2842722.0</td>\n",
       "      <td>...</td>\n",
       "      <td>31.702433</td>\n",
       "      <td>25.300</td>\n",
       "      <td>100.509969</td>\n",
       "      <td>36.032016</td>\n",
       "      <td>42.602412</td>\n",
       "      <td>63.291934</td>\n",
       "      <td>2402211.102</td>\n",
       "      <td>629826.6484</td>\n",
       "      <td>0.065059</td>\n",
       "      <td>43.345578</td>\n",
       "    </tr>\n",
       "  </tbody>\n",
       "</table>\n",
       "<p>5 rows × 39 columns</p>\n",
       "</div>"
      ],
      "text/plain": [
       "            Period          EQ  Social_Search_Impressions  \\\n",
       "0  2016 - Period:1  504.784933                  2019283.0   \n",
       "1  2016 - Period:2  490.226477                  4564738.0   \n",
       "2  2016 - Period:3  479.244686                  1029384.0   \n",
       "3  2016 - Period:4  489.057428                   902938.0   \n",
       "4  2016 - Period:5  477.031994                  1343454.0   \n",
       "\n",
       "   Social_Search_Working_cost  Digital_Impressions  Digital_Working_cost  \\\n",
       "0                      5493.0              37148.2              2045.282   \n",
       "1                     12938.0              50886.8              2370.584   \n",
       "2                      6546.0             253333.2              3180.888   \n",
       "3                      3928.0            3426239.0             13595.398   \n",
       "4                     28374.0             552197.8              3983.134   \n",
       "\n",
       "   Print_Impressions.Ads40  Print_Working_Cost.Ads50  OOH_Impressions  \\\n",
       "0                 0.000012                  0.000012     1.203045e+09   \n",
       "1                 0.000014                  0.000015     1.944356e+09   \n",
       "2                 0.000016                  0.000017     9.984054e+08   \n",
       "3                 0.000016                  0.000019     3.039816e+09   \n",
       "4                 0.000016                  0.000019     9.622004e+08   \n",
       "\n",
       "   OOH_Working_Cost  ...  Magazine_Impressions_pct  TV_GRP  Competitor1_RPI  \\\n",
       "0         2220633.0  ...                 27.702433  21.300        97.173365   \n",
       "1          469895.0  ...                 21.432628  12.334        97.850760   \n",
       "2         4465061.0  ...                 29.726275  23.213        96.397739   \n",
       "3         1031855.0  ...                 30.326275  14.456        98.936519   \n",
       "4         2842722.0  ...                 31.702433  25.300       100.509969   \n",
       "\n",
       "   Competitor2_RPI  Competitor3_RPI  Competitor4_RPI  EQ_Category  \\\n",
       "0        35.557371        44.502717        63.377268  1728388.673   \n",
       "1        37.223072        45.720077        62.731742  1900859.879   \n",
       "2        40.800563        41.822953        62.090417  2036436.906   \n",
       "3        36.576140        41.578429        63.374358  2113635.013   \n",
       "4        36.032016        42.602412        63.291934  2402211.102   \n",
       "\n",
       "   EQ_Subcategory  pct_PromoMarketDollars_Subcategory  RPI_Subcategory  \n",
       "0     331927.5394                            0.162732        40.560563  \n",
       "1     334611.3806                            0.231650        40.046301  \n",
       "2     387148.3582                            0.125394        40.411115  \n",
       "3     482489.6740                            0.056603        42.213246  \n",
       "4     629826.6484                            0.065059        43.345578  \n",
       "\n",
       "[5 rows x 39 columns]"
      ]
     },
     "execution_count": 9,
     "metadata": {},
     "output_type": "execute_result"
    }
   ],
   "source": [
    "df.head()"
   ]
  },
  {
   "cell_type": "code",
   "execution_count": 31,
   "metadata": {},
   "outputs": [
    {
     "data": {
      "text/plain": [
       "(39, 40)"
      ]
     },
     "execution_count": 31,
     "metadata": {},
     "output_type": "execute_result"
    }
   ],
   "source": [
    "df.shape"
   ]
  },
  {
   "cell_type": "code",
   "execution_count": 10,
   "metadata": {},
   "outputs": [
    {
     "data": {
      "text/plain": [
       "Index(['Period', 'EQ', 'Social_Search_Impressions',\n",
       "       'Social_Search_Working_cost', 'Digital_Impressions',\n",
       "       'Digital_Working_cost', 'Print_Impressions.Ads40',\n",
       "       'Print_Working_Cost.Ads50', 'OOH_Impressions', 'OOH_Working_Cost',\n",
       "       'SOS_pct', 'Digital_Impressions_pct', 'CCFOT', 'Median_Temp',\n",
       "       'Median_Rainfall', 'Fuel_Price', 'Inflation', 'Trade_Invest',\n",
       "       'Brand_Equity', 'Avg_EQ_Price', 'Any_Promo_pct_ACV', 'Any_Feat_pct_ACV',\n",
       "       'Any_Disp_pct_ACV', 'EQ_Base_Price', 'Est_ACV_Selling', 'pct_ACV',\n",
       "       'Avg_no_of_Items', 'pct_PromoMarketDollars_Category', 'RPI_Category',\n",
       "       'Magazine_Impressions_pct', 'TV_GRP', 'Competitor1_RPI',\n",
       "       'Competitor2_RPI', 'Competitor3_RPI', 'Competitor4_RPI', 'EQ_Category',\n",
       "       'EQ_Subcategory', 'pct_PromoMarketDollars_Subcategory',\n",
       "       'RPI_Subcategory'],\n",
       "      dtype='object')"
      ]
     },
     "execution_count": 10,
     "metadata": {},
     "output_type": "execute_result"
    }
   ],
   "source": [
    "df.columns"
   ]
  },
  {
   "cell_type": "code",
   "execution_count": 13,
   "metadata": {},
   "outputs": [
    {
     "data": {
      "text/plain": [
       "Period                                0\n",
       "EQ                                    0\n",
       "Social_Search_Impressions             0\n",
       "Social_Search_Working_cost            0\n",
       "Digital_Impressions                   0\n",
       "Digital_Working_cost                  0\n",
       "Print_Impressions.Ads40               0\n",
       "Print_Working_Cost.Ads50              0\n",
       "OOH_Impressions                       0\n",
       "OOH_Working_Cost                      0\n",
       "SOS_pct                               0\n",
       "Digital_Impressions_pct               0\n",
       "CCFOT                                 0\n",
       "Median_Temp                           0\n",
       "Median_Rainfall                       0\n",
       "Fuel_Price                            0\n",
       "Inflation                             0\n",
       "Trade_Invest                          0\n",
       "Brand_Equity                          0\n",
       "Avg_EQ_Price                          0\n",
       "Any_Promo_pct_ACV                     0\n",
       "Any_Feat_pct_ACV                      0\n",
       "Any_Disp_pct_ACV                      0\n",
       "EQ_Base_Price                         0\n",
       "Est_ACV_Selling                       0\n",
       "pct_ACV                               0\n",
       "Avg_no_of_Items                       0\n",
       "pct_PromoMarketDollars_Category       0\n",
       "RPI_Category                          0\n",
       "Magazine_Impressions_pct              0\n",
       "TV_GRP                                0\n",
       "Competitor1_RPI                       0\n",
       "Competitor2_RPI                       0\n",
       "Competitor3_RPI                       0\n",
       "Competitor4_RPI                       0\n",
       "EQ_Category                           0\n",
       "EQ_Subcategory                        0\n",
       "pct_PromoMarketDollars_Subcategory    0\n",
       "RPI_Subcategory                       0\n",
       "dtype: int64"
      ]
     },
     "execution_count": 13,
     "metadata": {},
     "output_type": "execute_result"
    }
   ],
   "source": [
    "df.isna().sum()"
   ]
  },
  {
   "cell_type": "code",
   "execution_count": 14,
   "metadata": {},
   "outputs": [
    {
     "data": {
      "text/html": [
       "<div>\n",
       "<style scoped>\n",
       "    .dataframe tbody tr th:only-of-type {\n",
       "        vertical-align: middle;\n",
       "    }\n",
       "\n",
       "    .dataframe tbody tr th {\n",
       "        vertical-align: top;\n",
       "    }\n",
       "\n",
       "    .dataframe thead th {\n",
       "        text-align: right;\n",
       "    }\n",
       "</style>\n",
       "<table border=\"1\" class=\"dataframe\">\n",
       "  <thead>\n",
       "    <tr style=\"text-align: right;\">\n",
       "      <th></th>\n",
       "      <th>EQ</th>\n",
       "      <th>Social_Search_Impressions</th>\n",
       "      <th>Social_Search_Working_cost</th>\n",
       "      <th>Digital_Impressions</th>\n",
       "      <th>Digital_Working_cost</th>\n",
       "      <th>Print_Impressions.Ads40</th>\n",
       "      <th>Print_Working_Cost.Ads50</th>\n",
       "      <th>OOH_Impressions</th>\n",
       "      <th>OOH_Working_Cost</th>\n",
       "      <th>SOS_pct</th>\n",
       "      <th>...</th>\n",
       "      <th>Magazine_Impressions_pct</th>\n",
       "      <th>TV_GRP</th>\n",
       "      <th>Competitor1_RPI</th>\n",
       "      <th>Competitor2_RPI</th>\n",
       "      <th>Competitor3_RPI</th>\n",
       "      <th>Competitor4_RPI</th>\n",
       "      <th>EQ_Category</th>\n",
       "      <th>EQ_Subcategory</th>\n",
       "      <th>pct_PromoMarketDollars_Subcategory</th>\n",
       "      <th>RPI_Subcategory</th>\n",
       "    </tr>\n",
       "  </thead>\n",
       "  <tbody>\n",
       "    <tr>\n",
       "      <th>count</th>\n",
       "      <td>39.000000</td>\n",
       "      <td>3.900000e+01</td>\n",
       "      <td>39.000000</td>\n",
       "      <td>3.900000e+01</td>\n",
       "      <td>39.000000</td>\n",
       "      <td>3.900000e+01</td>\n",
       "      <td>39.000000</td>\n",
       "      <td>3.900000e+01</td>\n",
       "      <td>3.900000e+01</td>\n",
       "      <td>39.000000</td>\n",
       "      <td>...</td>\n",
       "      <td>39.000000</td>\n",
       "      <td>39.000000</td>\n",
       "      <td>39.000000</td>\n",
       "      <td>39.000000</td>\n",
       "      <td>39.000000</td>\n",
       "      <td>39.000000</td>\n",
       "      <td>3.900000e+01</td>\n",
       "      <td>39.000000</td>\n",
       "      <td>39.000000</td>\n",
       "      <td>39.000000</td>\n",
       "    </tr>\n",
       "    <tr>\n",
       "      <th>mean</th>\n",
       "      <td>317.607462</td>\n",
       "      <td>9.146515e+06</td>\n",
       "      <td>58717.585474</td>\n",
       "      <td>3.631546e+06</td>\n",
       "      <td>51570.720453</td>\n",
       "      <td>2.021186e+06</td>\n",
       "      <td>34144.450052</td>\n",
       "      <td>1.812724e+09</td>\n",
       "      <td>2.636554e+06</td>\n",
       "      <td>11.439476</td>\n",
       "      <td>...</td>\n",
       "      <td>34.769345</td>\n",
       "      <td>25.678900</td>\n",
       "      <td>102.200774</td>\n",
       "      <td>38.646238</td>\n",
       "      <td>44.691582</td>\n",
       "      <td>65.408013</td>\n",
       "      <td>2.111044e+06</td>\n",
       "      <td>494376.637197</td>\n",
       "      <td>0.108772</td>\n",
       "      <td>42.356404</td>\n",
       "    </tr>\n",
       "    <tr>\n",
       "      <th>std</th>\n",
       "      <td>117.566092</td>\n",
       "      <td>9.651932e+06</td>\n",
       "      <td>79818.995410</td>\n",
       "      <td>4.162175e+06</td>\n",
       "      <td>43442.272642</td>\n",
       "      <td>3.677723e+06</td>\n",
       "      <td>62196.424335</td>\n",
       "      <td>1.415378e+09</td>\n",
       "      <td>1.877501e+06</td>\n",
       "      <td>11.340795</td>\n",
       "      <td>...</td>\n",
       "      <td>21.887500</td>\n",
       "      <td>11.669623</td>\n",
       "      <td>8.788492</td>\n",
       "      <td>4.933611</td>\n",
       "      <td>3.261620</td>\n",
       "      <td>4.768028</td>\n",
       "      <td>4.099681e+05</td>\n",
       "      <td>198096.696379</td>\n",
       "      <td>0.109919</td>\n",
       "      <td>3.060174</td>\n",
       "    </tr>\n",
       "    <tr>\n",
       "      <th>min</th>\n",
       "      <td>130.937361</td>\n",
       "      <td>2.160000e+04</td>\n",
       "      <td>2006.674000</td>\n",
       "      <td>2.989220e+04</td>\n",
       "      <td>1800.344000</td>\n",
       "      <td>1.230000e-05</td>\n",
       "      <td>0.000012</td>\n",
       "      <td>2.880720e+04</td>\n",
       "      <td>3.505506e+02</td>\n",
       "      <td>0.102858</td>\n",
       "      <td>...</td>\n",
       "      <td>7.080951</td>\n",
       "      <td>10.200000</td>\n",
       "      <td>83.883480</td>\n",
       "      <td>32.368993</td>\n",
       "      <td>38.550768</td>\n",
       "      <td>57.583497</td>\n",
       "      <td>1.504339e+06</td>\n",
       "      <td>249237.493500</td>\n",
       "      <td>0.001659</td>\n",
       "      <td>35.480731</td>\n",
       "    </tr>\n",
       "    <tr>\n",
       "      <th>25%</th>\n",
       "      <td>238.472603</td>\n",
       "      <td>1.731686e+06</td>\n",
       "      <td>11438.085001</td>\n",
       "      <td>1.106505e+05</td>\n",
       "      <td>12755.265326</td>\n",
       "      <td>1.666544e-05</td>\n",
       "      <td>0.000020</td>\n",
       "      <td>4.189834e+08</td>\n",
       "      <td>1.179309e+06</td>\n",
       "      <td>0.989926</td>\n",
       "      <td>...</td>\n",
       "      <td>17.015758</td>\n",
       "      <td>14.899000</td>\n",
       "      <td>97.092027</td>\n",
       "      <td>35.718011</td>\n",
       "      <td>41.881951</td>\n",
       "      <td>62.430457</td>\n",
       "      <td>1.774046e+06</td>\n",
       "      <td>333269.460000</td>\n",
       "      <td>0.027591</td>\n",
       "      <td>40.485839</td>\n",
       "    </tr>\n",
       "    <tr>\n",
       "      <th>50%</th>\n",
       "      <td>286.705586</td>\n",
       "      <td>4.564738e+06</td>\n",
       "      <td>34039.140505</td>\n",
       "      <td>1.909387e+06</td>\n",
       "      <td>39282.000000</td>\n",
       "      <td>2.374541e+03</td>\n",
       "      <td>404.646896</td>\n",
       "      <td>1.717025e+09</td>\n",
       "      <td>2.522631e+06</td>\n",
       "      <td>9.209103</td>\n",
       "      <td>...</td>\n",
       "      <td>31.702433</td>\n",
       "      <td>24.345000</td>\n",
       "      <td>100.734978</td>\n",
       "      <td>37.377758</td>\n",
       "      <td>44.631443</td>\n",
       "      <td>65.324834</td>\n",
       "      <td>2.010362e+06</td>\n",
       "      <td>421134.368800</td>\n",
       "      <td>0.078074</td>\n",
       "      <td>42.776921</td>\n",
       "    </tr>\n",
       "    <tr>\n",
       "      <th>75%</th>\n",
       "      <td>388.932161</td>\n",
       "      <td>1.530694e+07</td>\n",
       "      <td>81838.572846</td>\n",
       "      <td>5.977302e+06</td>\n",
       "      <td>76428.000000</td>\n",
       "      <td>1.689334e+06</td>\n",
       "      <td>37296.393200</td>\n",
       "      <td>3.119164e+09</td>\n",
       "      <td>3.787462e+06</td>\n",
       "      <td>17.300709</td>\n",
       "      <td>...</td>\n",
       "      <td>41.614122</td>\n",
       "      <td>35.200000</td>\n",
       "      <td>106.348210</td>\n",
       "      <td>40.034473</td>\n",
       "      <td>45.924004</td>\n",
       "      <td>67.668061</td>\n",
       "      <td>2.422064e+06</td>\n",
       "      <td>637651.872200</td>\n",
       "      <td>0.143282</td>\n",
       "      <td>44.000818</td>\n",
       "    </tr>\n",
       "    <tr>\n",
       "      <th>max</th>\n",
       "      <td>546.053084</td>\n",
       "      <td>4.039739e+07</td>\n",
       "      <td>473832.000000</td>\n",
       "      <td>1.830051e+07</td>\n",
       "      <td>170507.762784</td>\n",
       "      <td>1.205852e+07</td>\n",
       "      <td>239751.406689</td>\n",
       "      <td>4.438204e+09</td>\n",
       "      <td>8.617309e+06</td>\n",
       "      <td>47.442188</td>\n",
       "      <td>...</td>\n",
       "      <td>100.000000</td>\n",
       "      <td>47.700000</td>\n",
       "      <td>121.889647</td>\n",
       "      <td>57.797794</td>\n",
       "      <td>53.149560</td>\n",
       "      <td>76.896817</td>\n",
       "      <td>2.867307e+06</td>\n",
       "      <td>856242.939400</td>\n",
       "      <td>0.430051</td>\n",
       "      <td>49.735737</td>\n",
       "    </tr>\n",
       "  </tbody>\n",
       "</table>\n",
       "<p>8 rows × 38 columns</p>\n",
       "</div>"
      ],
      "text/plain": [
       "               EQ  Social_Search_Impressions  Social_Search_Working_cost  \\\n",
       "count   39.000000               3.900000e+01                   39.000000   \n",
       "mean   317.607462               9.146515e+06                58717.585474   \n",
       "std    117.566092               9.651932e+06                79818.995410   \n",
       "min    130.937361               2.160000e+04                 2006.674000   \n",
       "25%    238.472603               1.731686e+06                11438.085001   \n",
       "50%    286.705586               4.564738e+06                34039.140505   \n",
       "75%    388.932161               1.530694e+07                81838.572846   \n",
       "max    546.053084               4.039739e+07               473832.000000   \n",
       "\n",
       "       Digital_Impressions  Digital_Working_cost  Print_Impressions.Ads40  \\\n",
       "count         3.900000e+01             39.000000             3.900000e+01   \n",
       "mean          3.631546e+06          51570.720453             2.021186e+06   \n",
       "std           4.162175e+06          43442.272642             3.677723e+06   \n",
       "min           2.989220e+04           1800.344000             1.230000e-05   \n",
       "25%           1.106505e+05          12755.265326             1.666544e-05   \n",
       "50%           1.909387e+06          39282.000000             2.374541e+03   \n",
       "75%           5.977302e+06          76428.000000             1.689334e+06   \n",
       "max           1.830051e+07         170507.762784             1.205852e+07   \n",
       "\n",
       "       Print_Working_Cost.Ads50  OOH_Impressions  OOH_Working_Cost    SOS_pct  \\\n",
       "count                 39.000000     3.900000e+01      3.900000e+01  39.000000   \n",
       "mean               34144.450052     1.812724e+09      2.636554e+06  11.439476   \n",
       "std                62196.424335     1.415378e+09      1.877501e+06  11.340795   \n",
       "min                    0.000012     2.880720e+04      3.505506e+02   0.102858   \n",
       "25%                    0.000020     4.189834e+08      1.179309e+06   0.989926   \n",
       "50%                  404.646896     1.717025e+09      2.522631e+06   9.209103   \n",
       "75%                37296.393200     3.119164e+09      3.787462e+06  17.300709   \n",
       "max               239751.406689     4.438204e+09      8.617309e+06  47.442188   \n",
       "\n",
       "       ...  Magazine_Impressions_pct     TV_GRP  Competitor1_RPI  \\\n",
       "count  ...                 39.000000  39.000000        39.000000   \n",
       "mean   ...                 34.769345  25.678900       102.200774   \n",
       "std    ...                 21.887500  11.669623         8.788492   \n",
       "min    ...                  7.080951  10.200000        83.883480   \n",
       "25%    ...                 17.015758  14.899000        97.092027   \n",
       "50%    ...                 31.702433  24.345000       100.734978   \n",
       "75%    ...                 41.614122  35.200000       106.348210   \n",
       "max    ...                100.000000  47.700000       121.889647   \n",
       "\n",
       "       Competitor2_RPI  Competitor3_RPI  Competitor4_RPI   EQ_Category  \\\n",
       "count        39.000000        39.000000        39.000000  3.900000e+01   \n",
       "mean         38.646238        44.691582        65.408013  2.111044e+06   \n",
       "std           4.933611         3.261620         4.768028  4.099681e+05   \n",
       "min          32.368993        38.550768        57.583497  1.504339e+06   \n",
       "25%          35.718011        41.881951        62.430457  1.774046e+06   \n",
       "50%          37.377758        44.631443        65.324834  2.010362e+06   \n",
       "75%          40.034473        45.924004        67.668061  2.422064e+06   \n",
       "max          57.797794        53.149560        76.896817  2.867307e+06   \n",
       "\n",
       "       EQ_Subcategory  pct_PromoMarketDollars_Subcategory  RPI_Subcategory  \n",
       "count       39.000000                           39.000000        39.000000  \n",
       "mean    494376.637197                            0.108772        42.356404  \n",
       "std     198096.696379                            0.109919         3.060174  \n",
       "min     249237.493500                            0.001659        35.480731  \n",
       "25%     333269.460000                            0.027591        40.485839  \n",
       "50%     421134.368800                            0.078074        42.776921  \n",
       "75%     637651.872200                            0.143282        44.000818  \n",
       "max     856242.939400                            0.430051        49.735737  \n",
       "\n",
       "[8 rows x 38 columns]"
      ]
     },
     "execution_count": 14,
     "metadata": {},
     "output_type": "execute_result"
    }
   ],
   "source": [
    "df.describe()"
   ]
  },
  {
   "cell_type": "code",
   "execution_count": 15,
   "metadata": {},
   "outputs": [],
   "source": [
    "df['period'] = df['Period'].map(lambda x:x[-1])"
   ]
  },
  {
   "cell_type": "code",
   "execution_count": 16,
   "metadata": {},
   "outputs": [],
   "source": [
    "df['year'] = df['Period'].map(lambda x:x[:4])"
   ]
  },
  {
   "cell_type": "code",
   "execution_count": 17,
   "metadata": {},
   "outputs": [],
   "source": [
    "df.drop(columns = ['Period'], inplace=True)"
   ]
  },
  {
   "cell_type": "code",
   "execution_count": 18,
   "metadata": {},
   "outputs": [],
   "source": [
    "df['period'] = df['period'].astype(int)"
   ]
  },
  {
   "cell_type": "code",
   "execution_count": 19,
   "metadata": {},
   "outputs": [],
   "source": [
    "df['year'] = df['year'].astype(int)"
   ]
  },
  {
   "cell_type": "code",
   "execution_count": 20,
   "metadata": {},
   "outputs": [
    {
     "data": {
      "text/plain": [
       "EQ                                    float64\n",
       "Social_Search_Impressions             float64\n",
       "Social_Search_Working_cost            float64\n",
       "Digital_Impressions                   float64\n",
       "Digital_Working_cost                  float64\n",
       "Print_Impressions.Ads40               float64\n",
       "Print_Working_Cost.Ads50              float64\n",
       "OOH_Impressions                       float64\n",
       "OOH_Working_Cost                      float64\n",
       "SOS_pct                               float64\n",
       "Digital_Impressions_pct               float64\n",
       "CCFOT                                 float64\n",
       "Median_Temp                           float64\n",
       "Median_Rainfall                       float64\n",
       "Fuel_Price                            float64\n",
       "Inflation                             float64\n",
       "Trade_Invest                          float64\n",
       "Brand_Equity                          float64\n",
       "Avg_EQ_Price                          float64\n",
       "Any_Promo_pct_ACV                     float64\n",
       "Any_Feat_pct_ACV                      float64\n",
       "Any_Disp_pct_ACV                      float64\n",
       "EQ_Base_Price                         float64\n",
       "Est_ACV_Selling                         int64\n",
       "pct_ACV                               float64\n",
       "Avg_no_of_Items                       float64\n",
       "pct_PromoMarketDollars_Category       float64\n",
       "RPI_Category                          float64\n",
       "Magazine_Impressions_pct              float64\n",
       "TV_GRP                                float64\n",
       "Competitor1_RPI                       float64\n",
       "Competitor2_RPI                       float64\n",
       "Competitor3_RPI                       float64\n",
       "Competitor4_RPI                       float64\n",
       "EQ_Category                           float64\n",
       "EQ_Subcategory                        float64\n",
       "pct_PromoMarketDollars_Subcategory    float64\n",
       "RPI_Subcategory                       float64\n",
       "period                                  int64\n",
       "year                                    int64\n",
       "dtype: object"
      ]
     },
     "execution_count": 20,
     "metadata": {},
     "output_type": "execute_result"
    }
   ],
   "source": [
    "df.dtypes"
   ]
  },
  {
   "cell_type": "code",
   "execution_count": 40,
   "metadata": {},
   "outputs": [],
   "source": [
    "def mean_absolute_percentage_error(y_true, y_pred): \n",
    "    y_true, y_pred = np.array(y_true), np.array(y_pred)\n",
    "    return np.mean(np.abs((y_true - y_pred) / y_true)) * 100"
   ]
  },
  {
   "cell_type": "code",
   "execution_count": 23,
   "metadata": {},
   "outputs": [],
   "source": [
    "X = df.drop(columns = ['EQ'], axis = 1)"
   ]
  },
  {
   "cell_type": "code",
   "execution_count": 24,
   "metadata": {},
   "outputs": [],
   "source": [
    "y = df['EQ']"
   ]
  },
  {
   "cell_type": "code",
   "execution_count": 27,
   "metadata": {},
   "outputs": [],
   "source": [
    "X_train, X_test, y_train, y_test = train_test_split(X, y, test_size = 0.2, random_state = 1)"
   ]
  },
  {
   "cell_type": "code",
   "execution_count": 28,
   "metadata": {},
   "outputs": [
    {
     "data": {
      "text/plain": [
       "(31, 39)"
      ]
     },
     "execution_count": 28,
     "metadata": {},
     "output_type": "execute_result"
    }
   ],
   "source": [
    "X_train.shape"
   ]
  },
  {
   "cell_type": "code",
   "execution_count": 30,
   "metadata": {},
   "outputs": [
    {
     "data": {
      "text/plain": [
       "(8, 39)"
      ]
     },
     "execution_count": 30,
     "metadata": {},
     "output_type": "execute_result"
    }
   ],
   "source": [
    "X_test.shape"
   ]
  },
  {
   "cell_type": "code",
   "execution_count": 29,
   "metadata": {},
   "outputs": [
    {
     "data": {
      "text/plain": [
       "(31,)"
      ]
     },
     "execution_count": 29,
     "metadata": {},
     "output_type": "execute_result"
    }
   ],
   "source": [
    "y_train.shape"
   ]
  },
  {
   "cell_type": "markdown",
   "metadata": {},
   "source": [
    "### Simple linear regression"
   ]
  },
  {
   "cell_type": "code",
   "execution_count": 33,
   "metadata": {},
   "outputs": [],
   "source": [
    "lr = LinearRegression(normalize=True, n_jobs=-1)"
   ]
  },
  {
   "cell_type": "code",
   "execution_count": 34,
   "metadata": {},
   "outputs": [
    {
     "data": {
      "text/plain": [
       "LinearRegression(copy_X=True, fit_intercept=True, n_jobs=-1, normalize=True)"
      ]
     },
     "execution_count": 34,
     "metadata": {},
     "output_type": "execute_result"
    }
   ],
   "source": [
    "lr.fit(X_train, y_train)"
   ]
  },
  {
   "cell_type": "code",
   "execution_count": 35,
   "metadata": {},
   "outputs": [],
   "source": [
    "y_predict = lr.predict(X_test)"
   ]
  },
  {
   "cell_type": "code",
   "execution_count": 39,
   "metadata": {},
   "outputs": [
    {
     "data": {
      "text/plain": [
       "35.98389526730386"
      ]
     },
     "execution_count": 39,
     "metadata": {},
     "output_type": "execute_result"
    }
   ],
   "source": [
    "np.sqrt( mean_squared_error(y_test, y_predict) )"
   ]
  },
  {
   "cell_type": "code",
   "execution_count": 38,
   "metadata": {},
   "outputs": [
    {
     "data": {
      "text/plain": [
       "10.848499995515407"
      ]
     },
     "execution_count": 38,
     "metadata": {},
     "output_type": "execute_result"
    }
   ],
   "source": [
    "mean_absolute_percentage_error(y_test, y_predict)"
   ]
  },
  {
   "cell_type": "markdown",
   "metadata": {},
   "source": [
    "### Randomforest Regressor"
   ]
  },
  {
   "cell_type": "code",
   "execution_count": 43,
   "metadata": {},
   "outputs": [
    {
     "name": "stderr",
     "output_type": "stream",
     "text": [
      "[Parallel(n_jobs=-1)]: Using backend ThreadingBackend with 12 concurrent workers.\n",
      "[Parallel(n_jobs=-1)]: Done  26 tasks      | elapsed:    0.0s\n",
      "[Parallel(n_jobs=-1)]: Done 100 out of 100 | elapsed:    0.1s finished\n",
      "[Parallel(n_jobs=12)]: Using backend ThreadingBackend with 12 concurrent workers.\n",
      "[Parallel(n_jobs=12)]: Done  26 tasks      | elapsed:    0.0s\n",
      "[Parallel(n_jobs=12)]: Done 100 out of 100 | elapsed:    0.0s finished\n"
     ]
    }
   ],
   "source": [
    "rf = RandomForestRegressor(n_jobs=-1, verbose=1)\n",
    "rf.fit(X_train, y_train)\n",
    "y_predict = rf.predict(X_test)"
   ]
  },
  {
   "cell_type": "code",
   "execution_count": 44,
   "metadata": {},
   "outputs": [
    {
     "data": {
      "text/plain": [
       "24.877146142506643"
      ]
     },
     "execution_count": 44,
     "metadata": {},
     "output_type": "execute_result"
    }
   ],
   "source": [
    "np.sqrt( mean_squared_error(y_test, y_predict) )"
   ]
  },
  {
   "cell_type": "code",
   "execution_count": 45,
   "metadata": {},
   "outputs": [
    {
     "data": {
      "text/plain": [
       "8.016785856897272"
      ]
     },
     "execution_count": 45,
     "metadata": {},
     "output_type": "execute_result"
    }
   ],
   "source": [
    "mean_absolute_percentage_error(y_test, y_predict)"
   ]
  },
  {
   "cell_type": "markdown",
   "metadata": {},
   "source": [
    "### XGB"
   ]
  },
  {
   "cell_type": "code",
   "execution_count": 61,
   "metadata": {},
   "outputs": [
    {
     "name": "stdout",
     "output_type": "stream",
     "text": [
      "[22:18:41] WARNING: src/objective/regression_obj.cu:152: reg:linear is now deprecated in favor of reg:squarederror.\n"
     ]
    }
   ],
   "source": [
    "XGB = XGBRegressor(n_estimators=100,n_jobs=-1, verbose=1)\n",
    "XGB.fit(X_train, y_train)\n",
    "y_predict = XGB.predict(X_test)"
   ]
  },
  {
   "cell_type": "code",
   "execution_count": 62,
   "metadata": {},
   "outputs": [
    {
     "data": {
      "text/plain": [
       "43.41231567452553"
      ]
     },
     "execution_count": 62,
     "metadata": {},
     "output_type": "execute_result"
    }
   ],
   "source": [
    "np.sqrt( mean_squared_error(y_test, y_predict) )"
   ]
  },
  {
   "cell_type": "code",
   "execution_count": 63,
   "metadata": {},
   "outputs": [
    {
     "data": {
      "text/plain": [
       "10.77029996087375"
      ]
     },
     "execution_count": 63,
     "metadata": {},
     "output_type": "execute_result"
    }
   ],
   "source": [
    "mean_absolute_percentage_error(y_test, y_predict)"
   ]
  },
  {
   "cell_type": "code",
   "execution_count": null,
   "metadata": {},
   "outputs": [],
   "source": []
  }
 ],
 "metadata": {
  "kernelspec": {
   "display_name": "Python 3",
   "language": "python",
   "name": "python3"
  },
  "language_info": {
   "codemirror_mode": {
    "name": "ipython",
    "version": 3
   },
   "file_extension": ".py",
   "mimetype": "text/x-python",
   "name": "python",
   "nbconvert_exporter": "python",
   "pygments_lexer": "ipython3",
   "version": "3.7.6"
  }
 },
 "nbformat": 4,
 "nbformat_minor": 4
}
